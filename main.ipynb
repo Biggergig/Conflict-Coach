{
 "cells": [
  {
   "cell_type": "code",
   "execution_count": 23,
   "id": "0feb409b",
   "metadata": {},
   "outputs": [],
   "source": [
    "import os\n",
    "from langchain_openai import ChatOpenAI\n",
    "from langgraph.graph import MessagesState\n",
    "from langchain_core.messages import HumanMessage, SystemMessage\n",
    "\n",
    "from langgraph.graph import START, StateGraph, END\n",
    "from langgraph.prebuilt import tools_condition, ToolNode\n",
    "from IPython.display import Image, display"
   ]
  },
  {
   "cell_type": "code",
   "execution_count": 9,
   "id": "16e6df55",
   "metadata": {},
   "outputs": [],
   "source": [
    "llm = ChatOpenAI(model=\"gpt-4o-mini\", temperature=.6)"
   ]
  },
  {
   "cell_type": "code",
   "execution_count": 12,
   "id": "d3dd2dfd",
   "metadata": {},
   "outputs": [
    {
     "data": {
      "text/plain": [
       "AIMessage(content=\"Hello! I'm just a program, so I don't have feelings, but I'm here and ready to help you. How can I assist you today?\", additional_kwargs={'refusal': None}, response_metadata={'token_usage': {'completion_tokens': 29, 'prompt_tokens': 13, 'total_tokens': 42, 'completion_tokens_details': {'accepted_prediction_tokens': 0, 'audio_tokens': 0, 'reasoning_tokens': 0, 'rejected_prediction_tokens': 0}, 'prompt_tokens_details': {'audio_tokens': 0, 'cached_tokens': 0}}, 'model_name': 'gpt-4o-mini-2024-07-18', 'system_fingerprint': 'fp_54eb4bd693', 'id': 'chatcmpl-BZmN7Dskl13mUEjL5p9lAeY68wPS6', 'service_tier': 'default', 'finish_reason': 'stop', 'logprobs': None}, id='run--7fd2c0b2-056d-4c9d-90f2-0e0509f41d03-0', usage_metadata={'input_tokens': 13, 'output_tokens': 29, 'total_tokens': 42, 'input_token_details': {'audio': 0, 'cache_read': 0}, 'output_token_details': {'audio': 0, 'reasoning': 0}})"
      ]
     },
     "execution_count": 12,
     "metadata": {},
     "output_type": "execute_result"
    }
   ],
   "source": [
    "llm.invoke([HumanMessage(content=\"Hello, how are you?\")])"
   ]
  },
  {
   "cell_type": "code",
   "execution_count": null,
   "id": "a466ea2d",
   "metadata": {},
   "outputs": [],
   "source": [
    "def multiply(a: int, b: int) -> int:\n",
    "    \"\"\"Multiply a and b.\n",
    "\n",
    "    Args:\n",
    "        a: first int\n",
    "        b: second int\n",
    "    \"\"\"\n",
    "    return a * b"
   ]
  },
  {
   "cell_type": "code",
   "execution_count": 14,
   "id": "f0052b78",
   "metadata": {},
   "outputs": [],
   "source": [
    "sys_msg = [\n",
    "    SystemMessage(content=\"You are a personal coach tasked with helping the user handle their conflicts.\"\\\n",
    "                  \" You will help the user by asking clarifying questions, providing feedback, and offering\"\\\n",
    "                  \" suggestions on how to approach the situation. Your goal is to provide the user with a response\"\\\n",
    "                  \" that comes from a place of empathy.\"),\n",
    "]\n",
    "\n",
    "def response(state: MessagesState):\n",
    "    return {\"messages\": [llm.invoke(sys_msg + state[\"messages\"])]}"
   ]
  },
  {
   "cell_type": "code",
   "execution_count": 24,
   "id": "c039bfbf",
   "metadata": {},
   "outputs": [
    {
     "data": {
      "image/png": "[encoded data removed]",
      "text/plain": [
       "<IPython.core.display.Image object>"
      ]
     },
     "metadata": {},
     "output_type": "display_data"
    }
   ],
   "source": [
    "builder = StateGraph(MessagesState)\n",
    "\n",
    "# Add nodes to the graph\n",
    "builder.add_node(\"response\", response)\n",
    "\n",
    "# Add edges to the graph\n",
    "builder.add_edge(START, \"response\")\n",
    "builder.add_edge(\"response\", END)\n",
    "react_graph = builder.compile()\n",
    "\n",
    "display(Image(react_graph.get_graph(xray=True).draw_mermaid_png()))"
   ]
  }
 ],
 "metadata": {
  "kernelspec": {
   "display_name": ".venv",
   "language": "python",
   "name": "python3"
  },
  "language_info": {
   "codemirror_mode": {
    "name": "ipython",
    "version": 3
   },
   "file_extension": ".py",
   "mimetype": "text/x-python",
   "name": "python",
   "nbconvert_exporter": "python",
   "pygments_lexer": "ipython3",
   "version": "3.10.12"
  }
 },
 "nbformat": 4,
 "nbformat_minor": 5
}
