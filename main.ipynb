{
 "cells": [
  {
   "cell_type": "code",
   "execution_count": 74,
   "id": "0feb409b",
   "metadata": {},
   "outputs": [],
   "source": [
    "import os\n",
    "from langchain_openai import ChatOpenAI\n",
    "from langgraph.graph import MessagesState\n",
    "from langchain_core.messages import HumanMessage, SystemMessage\n",
    "\n",
    "from langgraph.graph import START, StateGraph, END\n",
    "from IPython.display import Image, display\n",
    "\n",
    "from typing import Sequence, Literal"
   ]
  },
  {
   "cell_type": "code",
   "execution_count": 75,
   "id": "279327a8",
   "metadata": {},
   "outputs": [],
   "source": [
    "os.environ[\"LANGSMITH_TRACING\"] = \"true\"\n",
    "os.environ[\"LANGSMITH_PROJECT\"] = \"conflict-coach\""
   ]
  },
  {
   "cell_type": "code",
   "execution_count": 76,
   "id": "16e6df55",
   "metadata": {},
   "outputs": [],
   "source": [
    "llm = ChatOpenAI(model=\"gpt-4o-mini\", temperature=.6)"
   ]
  },
  {
   "cell_type": "code",
   "execution_count": 77,
   "id": "d3dd2dfd",
   "metadata": {},
   "outputs": [
    {
     "data": {
      "text/plain": [
       "AIMessage(content=\"Hello! I'm just a computer program, so I don't have feelings, but I'm here and ready to help you. How can I assist you today?\", additional_kwargs={'refusal': None}, response_metadata={'token_usage': {'completion_tokens': 30, 'prompt_tokens': 13, 'total_tokens': 43, 'completion_tokens_details': {'accepted_prediction_tokens': 0, 'audio_tokens': 0, 'reasoning_tokens': 0, 'rejected_prediction_tokens': 0}, 'prompt_tokens_details': {'audio_tokens': 0, 'cached_tokens': 0}}, 'model_name': 'gpt-4o-mini-2024-07-18', 'system_fingerprint': 'fp_54eb4bd693', 'id': 'chatcmpl-BZnKn9anoFs85uL5RXc6lgwc3EFBT', 'service_tier': 'default', 'finish_reason': 'stop', 'logprobs': None}, id='run--dd82e7ca-c476-4c78-84ad-87a0bf1d74fc-0', usage_metadata={'input_tokens': 13, 'output_tokens': 30, 'total_tokens': 43, 'input_token_details': {'audio': 0, 'cache_read': 0}, 'output_token_details': {'audio': 0, 'reasoning': 0}})"
      ]
     },
     "execution_count": 77,
     "metadata": {},
     "output_type": "execute_result"
    }
   ],
   "source": [
    "llm.invoke([HumanMessage(content=\"Hello, how are you?\")])"
   ]
  },
  {
   "cell_type": "code",
   "execution_count": 78,
   "id": "f0775fea",
   "metadata": {},
   "outputs": [],
   "source": [
    "class QuestionState(MessagesState):\n",
    "    question: str | None"
   ]
  },
  {
   "cell_type": "code",
   "execution_count": 79,
   "id": "66d6a910",
   "metadata": {},
   "outputs": [],
   "source": [
    "# Helpers\n",
    "\n",
    "def choose_followup(state: MessagesState) -> str | None:\n",
    "    formatted_messages = \"\\n\".join([f\"{message.type.upper()}: {message.content}\" for message in state[\"messages\"]])\n",
    "    prompt = f\"\"\"\n",
    "You are collecting information to help the user understand the situation. Given the messages:\n",
    "\n",
    "{formatted_messages}\n",
    "\n",
    "If more information is needed to understand the context, ask a concise follow-up question.\n",
    "If you have enough info, respond with \"DONE\".\n",
    "\"\"\"\n",
    "\n",
    "    response = llm.invoke(prompt).content.strip()\n",
    "    return response if response != \"DONE\" else None"
   ]
  },
  {
   "cell_type": "code",
   "execution_count": 94,
   "id": "f0052b78",
   "metadata": {},
   "outputs": [],
   "source": [
    "# Nodes\n",
    "\n",
    "def init(state: MessagesState) -> MessagesState:\n",
    "    # TODO: need to reorder messages\n",
    "    # message_transcript = state[\"messages\"][-1].content\n",
    "\n",
    "    # user_msg = HumanMessage(\n",
    "    #         content=message_transcript\n",
    "    #     )\n",
    "    \n",
    "    \n",
    "    # return {\"messages\": [sys_msg, user_msg]}\n",
    "    return state\n",
    "\n",
    "def gather_context(state: QuestionState) -> QuestionState:\n",
    "    # messages = state[\"messages\"]\n",
    "    followup_question = choose_followup(state)\n",
    "    \n",
    "    return {\"question\": followup_question}\n",
    "\n",
    "def followup(state: QuestionState) -> MessagesState:\n",
    "    # TODO: ask question\n",
    "    print(state)\n",
    "    ...\n",
    "\n",
    "def summarize_context(state: MessagesState) -> MessagesState:\n",
    "    # TODO: summarize the context\n",
    "    ...\n",
    "\n",
    "\n",
    "def response(state: MessagesState):\n",
    "    print(state)\n",
    "    # return {\"messages\": [llm.invoke(sys_msg + state[\"messages\"])]}"
   ]
  },
  {
   "cell_type": "code",
   "execution_count": 95,
   "id": "878c603e",
   "metadata": {},
   "outputs": [],
   "source": [
    "# Conditional Edges\n",
    "\n",
    "def decide_followup(state: QuestionState) -> Literal[\"followup\", \"summarize_context\"]:\n",
    "    if state[\"question\"] is not None:\n",
    "        return \"followup\"\n",
    "    else:\n",
    "        return \"summarize_context\""
   ]
  },
  {
   "cell_type": "code",
   "execution_count": 96,
   "id": "c039bfbf",
   "metadata": {},
   "outputs": [
    {
     "data": {
      "image/png": "[encoded data removed]",
      "text/plain": [
       "<IPython.core.display.Image object>"
      ]
     },
     "metadata": {},
     "output_type": "display_data"
    }
   ],
   "source": [
    "builder = StateGraph(MessagesState)\n",
    "\n",
    "# Add nodes to the graph\n",
    "builder.add_node(\"init\", init)\n",
    "builder.add_node(\"gather_context\", gather_context)\n",
    "builder.add_node(\"followup\", followup)\n",
    "builder.add_node(\"summarize_context\", summarize_context)\n",
    "builder.add_node(\"response\", response)\n",
    "\n",
    "# Add edges to the graph\n",
    "builder.add_edge(START, \"init\")\n",
    "builder.add_edge(\"init\", \"gather_context\")\n",
    "\n",
    "builder.add_conditional_edges(\n",
    "    \"gather_context\", decide_followup\n",
    ")\n",
    "# builder.add_edge(\"followup\", \"gather_context\")\n",
    "\n",
    "builder.add_edge(\"summarize_context\", \"response\")\n",
    "builder.add_edge(\"response\", END)\n",
    "react_graph = builder.compile()\n",
    "\n",
    "# react_graph.get_graph(xray=True).print_ascii()\n",
    "display(Image(react_graph.get_graph(xray=True).draw_mermaid_png()))"
   ]
  },
  {
   "cell_type": "code",
   "execution_count": 97,
   "id": "669d1951",
   "metadata": {},
   "outputs": [
    {
     "name": "stdout",
     "output_type": "stream",
     "text": [
      "{'messages': [SystemMessage(content='You are a personal coach tasked with helping the user handle their conflicts. You will help the user by asking clarifying questions, providing feedback, and offering suggestions on how to approach the situation. Your goal is to provide the user with a response that comes from a place of empathy. You can ask questions for clarification or for more context if required.\\n\\nYou will now recieve a message with the initial context of the conversation.', additional_kwargs={}, response_metadata={}, id='a7809f0c-9ab3-4ad8-ab1a-58bebf00efb5'), HumanMessage(content=\"You didn't put the laundry away, you never do anything!\", additional_kwargs={}, response_metadata={}, id='311d234e-a0ee-4b39-9091-632edaa32798')], 'question': 'What led you to feel this way about the laundry situation? Is this a recurring issue in your relationship?'}\n"
     ]
    },
    {
     "data": {
      "text/plain": [
       "{'messages': [SystemMessage(content='You are a personal coach tasked with helping the user handle their conflicts. You will help the user by asking clarifying questions, providing feedback, and offering suggestions on how to approach the situation. Your goal is to provide the user with a response that comes from a place of empathy. You can ask questions for clarification or for more context if required.\\n\\nYou will now recieve a message with the initial context of the conversation.', additional_kwargs={}, response_metadata={}, id='a7809f0c-9ab3-4ad8-ab1a-58bebf00efb5'),\n",
       "  HumanMessage(content=\"You didn't put the laundry away, you never do anything!\", additional_kwargs={}, response_metadata={}, id='311d234e-a0ee-4b39-9091-632edaa32798')]}"
      ]
     },
     "execution_count": 97,
     "metadata": {},
     "output_type": "execute_result"
    }
   ],
   "source": [
    "sys_msg = SystemMessage(\n",
    "        content=\"You are a personal coach tasked with helping the user handle their conflicts. You will help the user by asking clarifying questions, providing feedback, and offering suggestions on how to approach the situation. Your goal is to provide the user with a response that comes from a place of empathy. You can ask questions for clarification or for more context if required.\\n\\nYou will now recieve a message with the initial context of the conversation.\"\n",
    "    )\n",
    "messages = [sys_msg, HumanMessage(content=\"You didn't put the laundry away, you never do anything!\")]\n",
    "react_graph.invoke({\"messages\": messages})"
   ]
  },
  {
   "cell_type": "code",
   "execution_count": null,
   "id": "c6aa877f",
   "metadata": {},
   "outputs": [],
   "source": []
  }
 ],
 "metadata": {
  "kernelspec": {
   "display_name": ".venv",
   "language": "python",
   "name": "python3"
  },
  "language_info": {
   "codemirror_mode": {
    "name": "ipython",
    "version": 3
   },
   "file_extension": ".py",
   "mimetype": "text/x-python",
   "name": "python",
   "nbconvert_exporter": "python",
   "pygments_lexer": "ipython3",
   "version": "3.10.12"
  }
 },
 "nbformat": 4,
 "nbformat_minor": 5
}
