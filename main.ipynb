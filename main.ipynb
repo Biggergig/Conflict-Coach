{
 "cells": [
  {
   "cell_type": "code",
   "execution_count": 1,
   "id": "0feb409b",
   "metadata": {},
   "outputs": [],
   "source": [
    "import os\n",
    "from langchain_openai import ChatOpenAI\n",
    "from langgraph.graph import MessagesState\n",
    "from langchain_core.messages import HumanMessage, SystemMessage\n",
    "\n",
    "from langgraph.graph import START, StateGraph, END\n",
    "from langgraph.prebuilt import tools_condition, ToolNode\n",
    "from IPython.display import Image, display"
   ]
  },
  {
   "cell_type": "code",
   "execution_count": 2,
   "id": "16e6df55",
   "metadata": {},
   "outputs": [],
   "source": [
    "llm = ChatOpenAI(model=\"gpt-4o-mini\", temperature=.6)"
   ]
  },
  {
   "cell_type": "code",
   "execution_count": 3,
   "id": "d3dd2dfd",
   "metadata": {},
   "outputs": [
    {
     "data": {
      "text/plain": [
       "AIMessage(content=\"Hello! I'm just a program, so I don't have feelings, but I'm here and ready to help you. How can I assist you today?\", additional_kwargs={'refusal': None}, response_metadata={'token_usage': {'completion_tokens': 29, 'prompt_tokens': 13, 'total_tokens': 42, 'completion_tokens_details': {'accepted_prediction_tokens': 0, 'audio_tokens': 0, 'reasoning_tokens': 0, 'rejected_prediction_tokens': 0}, 'prompt_tokens_details': {'audio_tokens': 0, 'cached_tokens': 0}}, 'model_name': 'gpt-4o-mini-2024-07-18', 'system_fingerprint': 'fp_54eb4bd693', 'id': 'chatcmpl-BZmetdjwePDrjF8aGRt0AkJnCXtMu', 'service_tier': 'default', 'finish_reason': 'stop', 'logprobs': None}, id='run--e1dcc17f-0d50-45e5-a4e1-81d051e4c136-0', usage_metadata={'input_tokens': 13, 'output_tokens': 29, 'total_tokens': 42, 'input_token_details': {'audio': 0, 'cache_read': 0}, 'output_token_details': {'audio': 0, 'reasoning': 0}})"
      ]
     },
     "execution_count": 3,
     "metadata": {},
     "output_type": "execute_result"
    }
   ],
   "source": [
    "llm.invoke([HumanMessage(content=\"Hello, how are you?\")])"
   ]
  },
  {
   "cell_type": "code",
   "execution_count": 16,
   "id": "f0775fea",
   "metadata": {},
   "outputs": [],
   "source": [
    "class InformationGatheringState(MessagesState):\n",
    "    followup_questions: bool"
   ]
  },
  {
   "cell_type": "code",
   "execution_count": 23,
   "id": "f0052b78",
   "metadata": {},
   "outputs": [],
   "source": [
    "def init(state: MessagesState) -> MessagesState:\n",
    "    sys_msg = [\n",
    "        SystemMessage(\n",
    "            content=\"You are a personal coach tasked with helping the user handle their conflicts. You will help the user by asking clarifying questions, providing feedback, and offering suggestions on how to approach the situation. Your goal is to provide the user with a response that comes from a place of empathy. You can ask questions for clarification or for more context if required.\\n\\nYou will now recieve a message with the initial context of the conversation.\"\n",
    "        ),\n",
    "    ]\n",
    "    \n",
    "    return {\"messages\": sys_msg + state[\"messages\"]}\n",
    "\n",
    "\n",
    "def gather_context(state: MessagesState) -> InformationGatheringState:\n",
    "    ...\n",
    "\n",
    "def followup(state: InformationGatheringState) -> MessagesState:\n",
    "    ...\n",
    "\n",
    "def summarize_context(state: InformationGatheringState) -> MessagesState:\n",
    "    # TODO: summarize the context\n",
    "    ...\n",
    "\n",
    "\n",
    "def response(state: MessagesState):\n",
    "    print(state)\n",
    "    # return {\"messages\": [llm.invoke(sys_msg + state[\"messages\"])]}"
   ]
  },
  {
   "cell_type": "code",
   "execution_count": 26,
   "id": "c039bfbf",
   "metadata": {},
   "outputs": [
    {
     "data": {
      "image/png": "[encoded data removed]",
      "text/plain": [
       "<IPython.core.display.Image object>"
      ]
     },
     "metadata": {},
     "output_type": "display_data"
    }
   ],
   "source": [
    "builder = StateGraph(MessagesState)\n",
    "\n",
    "# Add nodes to the graph\n",
    "builder.add_node(\"init\", init)\n",
    "builder.add_node(\"gather_context\", gather_context)\n",
    "builder.add_node(\"followup\", followup)\n",
    "builder.add_node(\"summarize_context\", summarize_context)\n",
    "builder.add_node(\"response\", response)\n",
    "\n",
    "# Add edges to the graph\n",
    "builder.add_edge(START, \"init\")\n",
    "builder.add_edge(\"init\", \"gather_context\")\n",
    "builder.add_edge(\"gather_context\", \"followup\")\n",
    "builder.add_edge(\"followup\", \"gather_context\")\n",
    "builder.add_edge(\"gather_context\", \"summarize_context\")\n",
    "builder.add_edge(\"summarize_context\", \"response\")\n",
    "builder.add_edge(\"response\", END)\n",
    "react_graph = builder.compile()\n",
    "\n",
    "# react_graph.get_graph(xray=True).print_ascii()\n",
    "display(Image(react_graph.get_graph(xray=True).draw_mermaid_png()))"
   ]
  },
  {
   "cell_type": "code",
   "execution_count": null,
   "id": "669d1951",
   "metadata": {},
   "outputs": [
    {
     "name": "stdout",
     "output_type": "stream",
     "text": [
      "{'messages': [HumanMessage(content=\"You didn't put the laundry away, you never do anything!\", additional_kwargs={}, response_metadata={}, id='32381ae8-441b-4baa-8b83-54fbfb311e22')]}\n"
     ]
    },
    {
     "data": {
      "text/plain": [
       "{'messages': [HumanMessage(content=\"You didn't put the laundry away, you never do anything!\", additional_kwargs={}, response_metadata={}, id='32381ae8-441b-4baa-8b83-54fbfb311e22'),\n",
       "  AIMessage(content=\"It sounds like you're feeling really frustrated about the laundry situation. Can you tell me more about what's been going on? How often do you find yourself feeling this way, and what do you think might be behind those feelings? Understanding the context could help us figure out a good way to address it.\", additional_kwargs={'refusal': None}, response_metadata={'token_usage': {'completion_tokens': 59, 'prompt_tokens': 79, 'total_tokens': 138, 'completion_tokens_details': {'accepted_prediction_tokens': 0, 'audio_tokens': 0, 'reasoning_tokens': 0, 'rejected_prediction_tokens': 0}, 'prompt_tokens_details': {'audio_tokens': 0, 'cached_tokens': 0}}, 'model_name': 'gpt-4o-mini-2024-07-18', 'system_fingerprint': 'fp_54eb4bd693', 'id': 'chatcmpl-BZmVJGdkWImo5CZSr5V1lmnUS92NT', 'service_tier': 'default', 'finish_reason': 'stop', 'logprobs': None}, id='run--ecf1ec04-1bd1-4608-b7cb-d2b524be4819-0', usage_metadata={'input_tokens': 79, 'output_tokens': 59, 'total_tokens': 138, 'input_token_details': {'audio': 0, 'cache_read': 0}, 'output_token_details': {'audio': 0, 'reasoning': 0}})]}"
      ]
     },
     "execution_count": 27,
     "metadata": {},
     "output_type": "execute_result"
    }
   ],
   "source": [
    "messages = [HumanMessage(content=\"You didn't put the laundry away, you never do anything!\")]\n",
    "react_graph.invoke({\"messages\": messages})"
   ]
  }
 ],
 "metadata": {
  "kernelspec": {
   "display_name": ".venv",
   "language": "python",
   "name": "python3"
  },
  "language_info": {
   "codemirror_mode": {
    "name": "ipython",
    "version": 3
   },
   "file_extension": ".py",
   "mimetype": "text/x-python",
   "name": "python",
   "nbconvert_exporter": "python",
   "pygments_lexer": "ipython3",
   "version": "3.10.12"
  }
 },
 "nbformat": 4,
 "nbformat_minor": 5
}
