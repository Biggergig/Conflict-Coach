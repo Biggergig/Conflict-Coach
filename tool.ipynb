{
 "cells": [
  {
   "cell_type": "code",
   "execution_count": 24,
   "id": "0feb409b",
   "metadata": {},
   "outputs": [],
   "source": [
    "import os\n",
    "from langchain_openai import ChatOpenAI\n",
    "from langgraph.graph import MessagesState\n",
    "from langchain_core.messages import HumanMessage, SystemMessage, AIMessage, AnyMessage\n",
    "\n",
    "from langgraph.graph import START, StateGraph, END\n",
    "from IPython.display import Image, display\n",
    "\n",
    "from typing import Sequence, Literal"
   ]
  },
  {
   "cell_type": "code",
   "execution_count": 3,
   "id": "279327a8",
   "metadata": {},
   "outputs": [],
   "source": [
    "os.environ[\"LANGSMITH_TRACING\"] = \"true\"\n",
    "os.environ[\"LANGSMITH_PROJECT\"] = \"conflict-coach-vTool\""
   ]
  },
  {
   "cell_type": "code",
   "execution_count": 4,
   "id": "16e6df55",
   "metadata": {},
   "outputs": [],
   "source": [
    "llm = ChatOpenAI(model=\"gpt-4o-mini\", temperature=.6)"
   ]
  },
  {
   "cell_type": "code",
   "execution_count": 5,
   "id": "0aee515a",
   "metadata": {},
   "outputs": [],
   "source": [
    "from typing import TypedDict\n",
    "\n",
    "\n",
    "class ContextState(TypedDict):\n",
    "    messages: Sequence[AnyMessage] # intentionally not appending\n",
    "    context: str"
   ]
  },
  {
   "cell_type": "code",
   "execution_count": 47,
   "id": "7d18418c",
   "metadata": {},
   "outputs": [],
   "source": [
    "# Tools\n",
    "from langchain_core.tools import tool\n",
    "\n",
    "@tool\n",
    "def ask_user_question(question: str) -> str:\n",
    "    \"\"\"Ask the user a question for further context, and returns their response.\"\"\"\n",
    "    return input(\"QUESTION: \"+question)\n",
    "\n",
    "\n",
    "names_to_tools = {\"ask_user_question\": ask_user_question}"
   ]
  },
  {
   "cell_type": "code",
   "execution_count": 43,
   "id": "f0052b78",
   "metadata": {},
   "outputs": [],
   "source": [
    "# Nodes\n",
    "\n",
    "\n",
    "def init(state: ContextState) -> ContextState:\n",
    "    message_transcript = state[\"messages\"][-1].content\n",
    "\n",
    "    sys_msg = SystemMessage(\n",
    "        content=\"You are a personal coach tasked with helping the user handle their conflicts. Your goal is to ultimately help the user understand the other person's perspective, and to do that your current objective is to understand the situation. You will now recieve a message with the initial context of the conversation. You can either ask a question for clarification or more context, or send the word \\\"DONE\\\".\"\n",
    "    )\n",
    "    user_msg = HumanMessage(content=message_transcript)\n",
    "\n",
    "    return {\"messages\": [sys_msg, user_msg], \"context\":\"<EMPTY>\"}\n",
    "\n",
    "\n",
    "def gather_context(state: ContextState) -> ContextState:\n",
    "    print(state)\n",
    "    tool_llm = llm.bind_tools([ask_user_question])\n",
    "    response = tool_llm.invoke(state[\"messages\"])\n",
    "\n",
    "    return {\"messages\": state[\"messages\"]+[response]}\n",
    "\n",
    "def followup(state: ContextState) -> ContextState:\n",
    "    print(\"In followup\",state)\n",
    "    for tool_call in state[\"messages\"][-1].tool_calls:\n",
    "        print(tool_call)\n",
    "    ...\n",
    "\n",
    "def summarize(state: ContextState) -> ContextState:\n",
    "    ..."
   ]
  },
  {
   "cell_type": "code",
   "execution_count": 44,
   "id": "bf844e31",
   "metadata": {},
   "outputs": [],
   "source": [
    "# Conditional Edges\n",
    "\n",
    "def has_question(state: ContextState) -> Literal[\"followup\", \"summarize\"]:\n",
    "    last_message = state[\"messages\"][-1]\n",
    "    assert isinstance(last_message, AIMessage), \"Expected last message to be an AIMessage\"\n",
    "\n",
    "    if not last_message.tool_calls:\n",
    "        return \"summarize\"\n",
    "    else:\n",
    "        return \"followup\""
   ]
  },
  {
   "cell_type": "code",
   "execution_count": 45,
   "id": "c039bfbf",
   "metadata": {},
   "outputs": [
    {
     "data": {
      "image/png": "[encoded data removed]",
      "text/plain": [
       "<IPython.core.display.Image object>"
      ]
     },
     "metadata": {},
     "output_type": "display_data"
    }
   ],
   "source": [
    "builder = StateGraph(ContextState)\n",
    "\n",
    "# Add nodes to the graph\n",
    "builder.add_node(\"init\", init)\n",
    "builder.add_node(\"gather_context\", gather_context)\n",
    "builder.add_node(\"followup\", followup)\n",
    "builder.add_node(\"summarize\", summarize)\n",
    "\n",
    "# Add edges to the graph\n",
    "builder.add_edge(START, \"init\")\n",
    "builder.add_edge(\"init\", \"gather_context\")\n",
    "builder.add_conditional_edges(\"gather_context\", has_question)\n",
    "\n",
    "react_graph = builder.compile()\n",
    "\n",
    "# react_graph.get_graph(xray=True).print_ascii()\n",
    "display(Image(react_graph.get_graph(xray=True).draw_mermaid_png()))"
   ]
  },
  {
   "cell_type": "code",
   "execution_count": 46,
   "id": "669d1951",
   "metadata": {},
   "outputs": [
    {
     "name": "stdout",
     "output_type": "stream",
     "text": [
      "{'messages': [SystemMessage(content='You are a personal coach tasked with helping the user handle their conflicts. Your goal is to ultimately help the user understand the other person\\'s perspective, and to do that your current objective is to understand the situation. You will now recieve a message with the initial context of the conversation. You can either ask a question for clarification or more context, or send the word \"DONE\".', additional_kwargs={}, response_metadata={}), HumanMessage(content=\"You didn't put the laundry away, you never do anything!\", additional_kwargs={}, response_metadata={})], 'context': '<EMPTY>'}\n",
      "In followup {'messages': [SystemMessage(content='You are a personal coach tasked with helping the user handle their conflicts. Your goal is to ultimately help the user understand the other person\\'s perspective, and to do that your current objective is to understand the situation. You will now recieve a message with the initial context of the conversation. You can either ask a question for clarification or more context, or send the word \"DONE\".', additional_kwargs={}, response_metadata={}), HumanMessage(content=\"You didn't put the laundry away, you never do anything!\", additional_kwargs={}, response_metadata={}), AIMessage(content='', additional_kwargs={'tool_calls': [{'id': 'call_2Vwi6RPKTP8hDUto4grOtdyU', 'function': {'arguments': '{\"question\":\"Can you tell me more about the situation? What led to this statement, and how do you feel about it?\"}', 'name': 'ask_user_question'}, 'type': 'function'}], 'refusal': None}, response_metadata={'token_usage': {'completion_tokens': 37, 'prompt_tokens': 138, 'total_tokens': 175, 'completion_tokens_details': {'accepted_prediction_tokens': 0, 'audio_tokens': 0, 'reasoning_tokens': 0, 'rejected_prediction_tokens': 0}, 'prompt_tokens_details': {'audio_tokens': 0, 'cached_tokens': 0}}, 'model_name': 'gpt-4o-mini-2024-07-18', 'system_fingerprint': 'fp_54eb4bd693', 'id': 'chatcmpl-BZoqg3vCM1WKrv6ipPw9UsTLPMtxP', 'service_tier': 'default', 'finish_reason': 'tool_calls', 'logprobs': None}, id='run--409b047f-af73-440c-8dcf-9bed9dc87e99-0', tool_calls=[{'name': 'ask_user_question', 'args': {'question': 'Can you tell me more about the situation? What led to this statement, and how do you feel about it?'}, 'id': 'call_2Vwi6RPKTP8hDUto4grOtdyU', 'type': 'tool_call'}], usage_metadata={'input_tokens': 138, 'output_tokens': 37, 'total_tokens': 175, 'input_token_details': {'audio': 0, 'cache_read': 0}, 'output_token_details': {'audio': 0, 'reasoning': 0}})], 'context': '<EMPTY>'}\n",
      "{'name': 'ask_user_question', 'args': {'question': 'Can you tell me more about the situation? What led to this statement, and how do you feel about it?'}, 'id': 'call_2Vwi6RPKTP8hDUto4grOtdyU', 'type': 'tool_call'}\n",
      "done\n"
     ]
    }
   ],
   "source": [
    "messages = [HumanMessage(content=\"You didn't put the laundry away, you never do anything!\")]\n",
    "react_graph.invoke({\"messages\": messages})\n",
    "\n",
    "print(\"done\")"
   ]
  },
  {
   "cell_type": "code",
   "execution_count": null,
   "id": "08bb8c2e",
   "metadata": {},
   "outputs": [],
   "source": []
  }
 ],
 "metadata": {
  "kernelspec": {
   "display_name": ".venv",
   "language": "python",
   "name": "python3"
  },
  "language_info": {
   "codemirror_mode": {
    "name": "ipython",
    "version": 3
   },
   "file_extension": ".py",
   "mimetype": "text/x-python",
   "name": "python",
   "nbconvert_exporter": "python",
   "pygments_lexer": "ipython3",
   "version": "3.10.16"
  }
 },
 "nbformat": 4,
 "nbformat_minor": 5
}
